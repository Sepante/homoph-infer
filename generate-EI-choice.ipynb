{
 "cells": [
  {
   "cell_type": "code",
   "execution_count": null,
   "id": "0a56d4d3-3bce-4391-b2e3-4d70a029a116",
   "metadata": {},
   "outputs": [],
   "source": [
    "import sys\n",
    "from pathlib import Path\n",
    "sys.path.append(str(Path.cwd().parent))"
   ]
  },
  {
   "cell_type": "code",
   "execution_count": null,
   "id": "6a3deb31-6531-4ee6-94c7-fac9e42d2b7c",
   "metadata": {},
   "outputs": [],
   "source": [
    "from network_cons import *\n",
    "import matplotlib.pyplot as plt\n",
    "\n",
    "from utilities import growth_network_param_extractor\n",
    "\n",
    "from stirling_approx import pairing_cond_num_asym, total_pairing_num, pairing_cond_num_asym_norm_fact\n",
    "from stirling_approx import pairing_cond_num_asym_asym_h\n",
    "\n",
    "from scipy.optimize import minimize_scalar\n",
    "\n",
    "import pandas as pd"
   ]
  },
  {
   "cell_type": "code",
   "execution_count": null,
   "id": "823fd2c7-f16c-4fae-bc7d-a738f9292fc9",
   "metadata": {},
   "outputs": [],
   "source": [
    "from utilities import growth_network_param_extractor"
   ]
  },
  {
   "cell_type": "code",
   "execution_count": null,
   "id": "4d362628-c6c7-45c5-8405-b684589656f3",
   "metadata": {},
   "outputs": [],
   "source": [
    "from stirling_approx import pairing_cond_num_asym, total_pairing_num, pairing_cond_num_asym_norm_fact\n",
    "from stirling_approx import pairing_cond_num_asym_asym_h"
   ]
  },
  {
   "cell_type": "code",
   "execution_count": null,
   "id": "47ae2f92-ca6b-4074-b283-a68ad02fea6e",
   "metadata": {},
   "outputs": [],
   "source": [
    "from scipy.optimize import minimize_scalar"
   ]
  },
  {
   "cell_type": "code",
   "execution_count": null,
   "id": "6291c890-a5cc-4d42-9f4c-f6a494816deb",
   "metadata": {},
   "outputs": [],
   "source": [
    "def normalized_likelihood( h ):\n",
    "    return pairing_cond_num_asym( s_m, s_f, phi.sum(), h ) / pairing_cond_num_asym_norm_fact( s_m, s_f, h )\n",
    "\n",
    "def log_normalized_likelihood(h):\n",
    "    return -float( normalized_likelihood(h).log10() )"
   ]
  },
  {
   "cell_type": "markdown",
   "id": "a5c2f3d6-e5a4-49b5-8f47-b7da71674ef7",
   "metadata": {},
   "source": [
    "# Proportion imbalance"
   ]
  },
  {
   "cell_type": "code",
   "execution_count": null,
   "id": "bf60eb43-11e3-4b41-aff9-6f6cce461c24",
   "metadata": {},
   "outputs": [],
   "source": [
    "mode_num = 2\n",
    "proportion = 0.5\n",
    "k_init = 4\n",
    "late_comer_mode = 0\n",
    "t_emerge = 0\n",
    "t_unbias = 0\n",
    "distribution = 'identical'\n",
    "history_step_size = 0\n",
    "eps = 1\n",
    "inter_group_pair_num_output = True\n",
    "inter_group_per_node = True\n",
    "\n",
    "step_num = 2000\n",
    "\n",
    "actual_h = 0.5\n",
    "\n",
    "P_A = False\n",
    "\n",
    "degree_symmetry = True\n",
    "k_init = 4\n",
    "k_init_2 = 4"
   ]
  },
  {
   "cell_type": "code",
   "execution_count": null,
   "id": "abda83b0-78fa-43bc-a9a5-c545219458ec",
   "metadata": {},
   "outputs": [],
   "source": [
    "generative_h_range = np.linspace(0.1, 0.9, 17)\n",
    "proportion_range = np.linspace(0.1, 0.5, 5)"
   ]
  },
  {
   "cell_type": "code",
   "execution_count": null,
   "id": "6684398a-411c-4922-88f0-2347eb75a3c5",
   "metadata": {},
   "outputs": [],
   "source": [
    "generative_h_range"
   ]
  },
  {
   "cell_type": "code",
   "execution_count": null,
   "id": "c668ddf6-4646-4623-b974-d63a962bcac6",
   "metadata": {},
   "outputs": [],
   "source": [
    "run_num = 2"
   ]
  },
  {
   "cell_type": "code",
   "execution_count": null,
   "id": "f3250401-8b5d-4801-9dbb-b728fcffb232",
   "metadata": {},
   "outputs": [],
   "source": [
    "chm_calc = True"
   ]
  },
  {
   "cell_type": "code",
   "execution_count": null,
   "id": "87ef84d4-3e07-4f8b-8684-33ad3f7efc92",
   "metadata": {},
   "outputs": [],
   "source": [
    "\n",
    "\n",
    "# Initialize dataframe to store results\n",
    "\n",
    "numberOfRows = run_num * len( generative_h_range ) * len(proportion_range)\n",
    "\n",
    "EI_results = pd.DataFrame(columns=['actual_h', 'run'\\\n",
    "                    , 'proportion', 'EI']\\\n",
    "                    , index=np.arange(0, numberOfRows))\n",
    "if chm_calc:\n",
    "    EI_results['chm_infer_h'] = 0"
   ]
  },
  {
   "cell_type": "code",
   "execution_count": null,
   "id": "e2baf36e-b18e-4b62-8ef4-402eb9696c1a",
   "metadata": {},
   "outputs": [],
   "source": [
    "row_index = 0\n",
    "\n",
    "for proportion in proportion_range:\n",
    "    print(proportion)\n",
    "\n",
    "    for h_i, actual_h in enumerate(generative_h_range):\n",
    "\n",
    "        for run in range( run_num ):\n",
    "            \n",
    "            degrees, modes, external_links, phi = net_grow(step_num, mode_num, proportion, actual_h, k_init, late_comer_mode,\n",
    "                           t_emerge, t_unbias, distribution, history_step_size, eps,\n",
    "                           inter_group_pair_num_output, inter_group_per_node = True, symmetric=True, h2=None, degree_symmetry=degree_symmetry, k_init_2=k_init_2, P_A=P_A)\n",
    "\n",
    "            E = external_links\n",
    "            I = degrees - external_links\n",
    "\n",
    "            EI = ( ( E - I ) / (E + I) ).mean()\n",
    "            \n",
    "            \n",
    "            if chm_calc:\n",
    "                s_f, s_m, phi = growth_network_param_extractor(degrees, modes, phi)\n",
    "                result = minimize_scalar(log_normalized_likelihood, method='Bounded', bounds=[0.01, 0.99])\n",
    "                chm_infer_h = result.x\n",
    "\n",
    "            if chm_calc:\n",
    "                EI_results.loc[row_index] = [actual_h, run, proportion, EI, chm_infer_h]\n",
    "            else:\n",
    "                EI_results.loc[row_index] = [actual_h, run, proportion, EI]\n",
    "            row_index += 1\n"
   ]
  },
  {
   "cell_type": "code",
   "execution_count": null,
   "id": "0e1d8277-7ca3-49a5-818a-69d0465e2e8f",
   "metadata": {},
   "outputs": [],
   "source": [
    "result.x"
   ]
  },
  {
   "cell_type": "code",
   "execution_count": null,
   "id": "6f78e7b4-a319-4962-b69d-b6d5421735d8",
   "metadata": {},
   "outputs": [],
   "source": [
    "EI_results"
   ]
  },
  {
   "cell_type": "code",
   "execution_count": null,
   "id": "7a90788f-e87f-4cd2-8a74-22f421c3c540",
   "metadata": {},
   "outputs": [],
   "source": [
    "EI_results.astype('float').groupby(['actual_h', 'proportion']).mean().reset_index().drop( columns = 'run' )"
   ]
  },
  {
   "cell_type": "code",
   "execution_count": null,
   "id": "aa16c253-3261-4272-a051-5977bc4ec6ed",
   "metadata": {},
   "outputs": [],
   "source": [
    "EI_results.groupby(['actual_h', 'proportion']).mean()"
   ]
  },
  {
   "cell_type": "code",
   "execution_count": null,
   "id": "e23b1ab2-b704-4220-8b31-45b411894cf4",
   "metadata": {},
   "outputs": [],
   "source": [
    "EI_results.groupby(['actual_h', 'proportion']).mean().reset_index()"
   ]
  },
  {
   "cell_type": "code",
   "execution_count": null,
   "id": "cf7ee844-12a9-499e-a9c9-34888a79e120",
   "metadata": {},
   "outputs": [],
   "source": [
    "EI_results_summary = EI_results.groupby(['actual_h', 'proportion']).mean().reset_index().drop(columns = 'run')\n",
    "\n",
    "EI_results_summary['sem'] = EI_results.groupby(['actual_h', 'proportion']).sem().reset_index()['EI']"
   ]
  },
  {
   "cell_type": "code",
   "execution_count": null,
   "id": "dab90aad-b0ec-4dd2-a696-cdd9575f37b3",
   "metadata": {},
   "outputs": [],
   "source": [
    "EI_results_summary.to_csv('temp-EI_results_summary' + '-PA=' + str(P_A) + '.csv', index = False)"
   ]
  },
  {
   "cell_type": "code",
   "execution_count": null,
   "id": "23fe9cb4-71da-4b1c-8cfc-dcd23317d74c",
   "metadata": {},
   "outputs": [],
   "source": [
    "EI_results_summary.to_csv('EI-homophily-results/EI_results_summary' + '-PA=' + str(P_A) + '.csv', index = False)"
   ]
  },
  {
   "cell_type": "markdown",
   "id": "eea24253-1623-43b3-9ffd-2ef41f59bfec",
   "metadata": {},
   "source": [
    "# Degree imbalance"
   ]
  },
  {
   "cell_type": "code",
   "execution_count": null,
   "id": "609aeeda-27f2-4047-a5ec-b88ea22c8d60",
   "metadata": {},
   "outputs": [],
   "source": [
    "run_num = 100\n",
    "proportion = 0.2\n",
    "degree_symmetry = False\n",
    "P_A = False"
   ]
  },
  {
   "cell_type": "code",
   "execution_count": null,
   "id": "6ed6f768-6d43-405c-b406-d5c358c8f2ee",
   "metadata": {},
   "outputs": [],
   "source": [
    "\n",
    "\n",
    "\n",
    "# Initialize dataframe to store results\n",
    "# degree_range = [1, 4, 8, 12, 40]\n",
    "# degree_range = [1, 4, 40]\n",
    "degree_range = [1, 4, 12]\n",
    "\n",
    "numberOfRows = run_num * len( generative_h_range ) * len(degree_range)\n",
    "\n",
    "EI_results_degree_imb = pd.DataFrame(columns=['actual_h', 'run'\\\n",
    "                    , 'k_init_2', 'EI']\\\n",
    "                    , index=np.arange(0, numberOfRows))\n"
   ]
  },
  {
   "cell_type": "code",
   "execution_count": null,
   "id": "e665210d-3ce0-4d54-a888-93c053ed2088",
   "metadata": {},
   "outputs": [],
   "source": [
    "row_index = 0\n",
    "\n",
    "for k_init_2 in degree_range:\n",
    "    print(k_init_2)\n",
    "\n",
    "    for h_i, actual_h in enumerate(generative_h_range):\n",
    "\n",
    "        for run in range( run_num ):\n",
    "            \n",
    "            degrees, modes, external_links, phi = net_grow(step_num, mode_num, proportion, actual_h, k_init, late_comer_mode,\n",
    "                           t_emerge, t_unbias, distribution, history_step_size, eps,\n",
    "                           inter_group_pair_num_output, inter_group_per_node = True, symmetric=True, h2=None, degree_symmetry=degree_symmetry, k_init_2=k_init_2, P_A=P_A)\n",
    "\n",
    "            E = external_links\n",
    "            I = degrees - external_links\n",
    "\n",
    "            EI = ( ( E - I ) / (E + I) ).mean()\n",
    "\n",
    "            EI_results_degree_imb.loc[row_index] = [actual_h, run, k_init_2, EI]\n",
    "            row_index += 1\n"
   ]
  },
  {
   "cell_type": "code",
   "execution_count": null,
   "id": "206c9330-124b-4311-9909-0c641cac34dd",
   "metadata": {},
   "outputs": [],
   "source": [
    "EI_results_degree_imb_summary = EI_results_degree_imb.groupby(['actual_h', 'k_init_2']).mean().reset_index().drop(columns = 'run')\n",
    "\n",
    "EI_results_degree_imb_summary['sem'] = EI_results_degree_imb.groupby(['actual_h', 'k_init_2']).sem().reset_index()['EI']"
   ]
  },
  {
   "cell_type": "code",
   "execution_count": null,
   "id": "9e5a64c5-68ec-4f50-8c79-ff2edb7129a3",
   "metadata": {},
   "outputs": [],
   "source": [
    "EI_results_degree_imb_summary.to_csv('EI_results_summary_deg_imb' + '-PA=' + str(P_A) + '.csv', index = False)"
   ]
  },
  {
   "cell_type": "code",
   "execution_count": null,
   "id": "a239461d-65f4-461a-858b-011ff7147df0",
   "metadata": {},
   "outputs": [],
   "source": [
    "# EI_results_summary = EI_results.groupby(['actual_h', 'proportion']).mean().reset_index().drop(columns = 'run')\n",
    "\n",
    "# EI_results_summary['sem'] = EI_results.groupby(['actual_h', 'proportion']).sem().reset_index()['EI']"
   ]
  },
  {
   "cell_type": "code",
   "execution_count": null,
   "id": "5cf35598-e3a0-4e4a-ac41-ae9b02234752",
   "metadata": {},
   "outputs": [],
   "source": []
  }
 ],
 "metadata": {
  "kernelspec": {
   "display_name": "Python 3 (ipykernel)",
   "language": "python",
   "name": "python3"
  },
  "language_info": {
   "codemirror_mode": {
    "name": "ipython",
    "version": 3
   },
   "file_extension": ".py",
   "mimetype": "text/x-python",
   "name": "python",
   "nbconvert_exporter": "python",
   "pygments_lexer": "ipython3",
   "version": "3.10.12"
  }
 },
 "nbformat": 4,
 "nbformat_minor": 5
}
